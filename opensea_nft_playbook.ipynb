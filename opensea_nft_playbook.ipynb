{
 "cells": [
  {
   "cell_type": "markdown",
   "id": "6f71014f-b5d5-43b8-87c9-49fb154f04a2",
   "metadata": {},
   "source": [
    "# Analysing an OpenSea NFT on the Polygon blockchain"
   ]
  },
  {
   "cell_type": "markdown",
   "id": "3cb9f7a6-ced5-4229-acf8-23ee6c6fe6ac",
   "metadata": {},
   "source": [
    "Mal Minhas v0.1 21.02.22"
   ]
  },
  {
   "cell_type": "markdown",
   "id": "90340cea-7b9c-4aab-9dc1-fdd17fc9fb69",
   "metadata": {},
   "source": [
    "### 1. Context and Setup"
   ]
  },
  {
   "cell_type": "markdown",
   "id": "2f0f36cd-6f12-4aae-ab62-c77b12678dc0",
   "metadata": {},
   "source": [
    "I recently bought an NFT on OpenSea using some ETH (Polygon) that I had in my linked MetaMask wallet. \n",
    "The NFT I bought is called Ask Me Later and is visible on OpenSea [here](https://opensea.io/assets/matic/0x2953399124f0cbb46d2cbacd8a89cf0599974963/86520523391455217104303705677473463659385359901978646282133996067748319330305).\n",
    "This notebook uses Python `Web3` to develop client code that can interact with the Ethereum network to read data from the smart contract in the NFT and allow me to inspect what's in the NFT."
   ]
  },
  {
   "cell_type": "markdown",
   "id": "12b1f8b4-b258-4d24-9e36-4472ddfcc602",
   "metadata": {},
   "source": [
    "In order to get going we need to set up a virtual environment which in this instance we'll call `web3` and then `pip install` what we need into it.  The following assumes you have set up the virtual environment already:"
   ]
  },
  {
   "cell_type": "markdown",
   "id": "70b3f341-3eda-454a-94bb-9e523d249c40",
   "metadata": {},
   "source": [
    "```\n",
    "(web3) $ pip install web3, requests\n",
    "```"
   ]
  },
  {
   "cell_type": "markdown",
   "id": "60ac1643-4bbe-4973-ab1b-69b4d13ca4a8",
   "metadata": {},
   "source": [
    "### 2. Connecting to the Ethereum Network"
   ]
  },
  {
   "cell_type": "markdown",
   "id": "bd45304a-8dbd-4594-84b2-5d87a1a4cdd8",
   "metadata": {},
   "source": [
    "The contract for the NFT we are interested in is available on Polygon [here](https://polygonscan.com/address/0x2953399124f0cbb46d2cbacd8a89cf0599974963).  We reach that link by clicking on the corresponding contract link on the OpenSea NFT page [here](https://opensea.io/assets/matic/0x2953399124f0cbb46d2cbacd8a89cf0599974963/86520523391455217104303705677473463659385359901978646282133996067748319330305).  We can connect to the Ethereum network via an HTTP provider courtesy of Polygon.  The location of that provider was picked up from [this Reddit post](https://www.reddit.com/r/0xPolygon/comments/q0tt61/how_to_interact_with_polygon_using_web3py/)."
   ]
  },
  {
   "cell_type": "markdown",
   "id": "8c63c7fe-58b8-4f19-8bdd-ff63f5060808",
   "metadata": {},
   "source": [
    "We can read smart contracts with the Python `web3` module.  In order to do that we need:\n",
    "* An ABI (or Abstract Binary Interface) specification of the functions on the smart contract.\n",
    "* A Python representation of the smart contract which is done using a call to `web3.eth.Contract()` \n",
    "\n",
    "The `web3.eth.Contract()` call takes two arguments: the smart contract ABI and the smart contract address.  An ABI in this context is a JSON array that describes how a specific smart contract works. The guide [here](https://www.dappuniversity.com/articles/web3-py-intro) is very useful for understanding how to practically use `web3` with smart contracts. "
   ]
  },
  {
   "cell_type": "markdown",
   "id": "95213678-bcdb-4cc7-89b1-cca78308787c",
   "metadata": {},
   "source": [
    "In the following code, we will start with just two simple ABI functions inherited from the original [ERC-721](https://eips.ethereum.org/EIPS/eip-721) NFT specification, namely `symbol` and `name`:"
   ]
  },
  {
   "cell_type": "code",
   "execution_count": 16,
   "id": "d755cf93-f3a3-4d6c-8b8b-b1c109adf8f7",
   "metadata": {},
   "outputs": [
    {
     "name": "stdout",
     "output_type": "stream",
     "text": [
      "web3 connection status to HTTP provider at https://polygon-rpc.com/ = True\n",
      "contract address: 0x2953399124F0cBB46d2CbACD8A89cF0599974963\n",
      "contract functions: [<Function name()>, <Function symbol()>]\n",
      "OpenSea Collections [OPENSTORE]\n"
     ]
    }
   ],
   "source": [
    "from web3 import Web3, HTTPProvider\n",
    "\n",
    "my_abi = [\n",
    "    {# OK\n",
    "        'inputs': [],\n",
    "        'name': 'name',\n",
    "        'outputs': [{'internalType': 'string', 'name': '', 'type': 'string'}],\n",
    "        'stateMutability': 'view', 'type': 'function', 'constant': True\n",
    "    },\n",
    "    {# OK\n",
    "        'inputs': [],\n",
    "        'name': 'symbol',\n",
    "        'outputs': [{'internalType': 'string', 'name': '', 'type': 'string'}],\n",
    "        'stateMutability': 'view', 'type': 'function', 'constant': True\n",
    "    },\n",
    "]\n",
    "\n",
    "uri = \"https://polygon-rpc.com/\"\n",
    "w3 = Web3(Web3.HTTPProvider(endpoint_uri=uri, request_kwargs={'timeout': 10}))\n",
    "print(f'web3 connection status to HTTP provider at {uri} = {w3.isConnected()}')\n",
    "my_token_addr = \"0x2953399124f0cbb46d2cbacd8a89cf0599974963\"\n",
    "\n",
    "# See here for explanation of checksum address: \n",
    "# https://coincodex.com/article/2078/ethereum-address-checksum-explained/\n",
    "contract = w3.eth.contract(address=w3.toChecksumAddress(my_token_addr), abi=my_abi)\n",
    "print(f'contract address: {contract.address}')\n",
    "print(f'contract functions: {contract.all_functions()}')\n",
    "name = contract.functions.name().call()\n",
    "symbol = contract.functions.symbol().call()\n",
    "print(f\"{name} [{symbol}]\")"
   ]
  },
  {
   "cell_type": "markdown",
   "id": "3e502c95-289b-40a0-a269-518315641a75",
   "metadata": {},
   "source": [
    "Now we have the basic setup in place we can look to get further into the ABI."
   ]
  },
  {
   "cell_type": "markdown",
   "id": "828653ba-7710-4ede-b528-7624b812c1f1",
   "metadata": {},
   "source": [
    "### 3. Mapping the ABI"
   ]
  },
  {
   "cell_type": "markdown",
   "id": "aa1c6479-14bc-4a0d-8b46-b13bba0eab87",
   "metadata": {},
   "source": [
    "In order to get further information from the contract, we need to understand how the contract is constructed in greater detail.  The contract is written in [Solidity](https://en.wikipedia.org/wiki/Solidity). The corresponding Solidity code for the smart contract is available for inspection on Polygon [here](https://polygonscan.com/address/0x2953399124f0cbb46d2cbacd8a89cf0599974963#code).  It is built using something called [ERC-1155](https://eips.ethereum.org/EIPS/eip-1155) which is a \"next-generation\" multi-token standard backwards compatible with the original [ERC-721](https://eips.ethereum.org/EIPS/eip-721) NFT specification."
   ]
  },
  {
   "cell_type": "code",
   "execution_count": 18,
   "id": "49f08149-69f3-43eb-bf54-b32f4a74a509",
   "metadata": {},
   "outputs": [],
   "source": [
    "my_abi2 = [\n",
    "    {\n",
    "        'inputs': [{'internalType': 'address', 'name': 'owner', 'type': 'address'},\n",
    "                   {'internalType': 'uint256', 'name': 'id', 'type': 'uint256'}],\n",
    "        'name': 'balanceOf',\n",
    "        'outputs': [{'internalType': 'uint256', 'name': '', 'type': 'uint256'}],\n",
    "        'payable': False, 'stateMutability': 'view', 'type': 'function', 'constant': True\n",
    "    },\n",
    "    {\n",
    "        'inputs': [{'internalType': 'uint256', 'name': 'id', 'type': 'uint256'}],\n",
    "        'name': 'creator',\n",
    "        'outputs': [{'internalType': 'address', 'name': '', 'type': 'address'}],\n",
    "        'payable': False, 'stateMutability': 'view', 'type': 'function', 'constant': True\n",
    "    },\n",
    "    {\n",
    "        'inputs': [{'internalType': 'uint256', 'name': 'id', 'type': 'uint256'}],\n",
    "        'name': 'isPermanentURI',\n",
    "        'outputs': [{'internalType': 'bool', 'name': '', 'type': 'bool'}],\n",
    "        'stateMutability': 'view', 'type': 'function', 'constant': True\n",
    "    },\n",
    "    {\n",
    "        'inputs': [],\n",
    "        'name': 'name',\n",
    "        'outputs': [{'internalType': 'string', 'name': '', 'type': 'string'}],\n",
    "        'stateMutability': 'view', 'type': 'function', 'constant': True\n",
    "    },\n",
    "    {\n",
    "        'inputs': [],\n",
    "        'name': 'openSeaVersion',\n",
    "        'outputs': [{'internalType': 'string', 'name': '', 'type': 'string'}],\n",
    "        'stateMutability': 'view', 'type': 'function', 'constant': True\n",
    "    },\n",
    "    {\n",
    "        'inputs': [],\n",
    "        'name': 'owner',\n",
    "        'outputs': [{'internalType': 'address', 'name': '', 'type': 'address'}],\n",
    "        'payable': False, 'stateMutability': 'view', 'type': 'function', 'constant': True\n",
    "    },\n",
    "    {\n",
    "        'inputs': [],\n",
    "        'name': 'symbol',\n",
    "        'outputs': [{'internalType': 'string', 'name': '', 'type': 'string'}],\n",
    "        'stateMutability': 'view', 'type': 'function', 'constant': True\n",
    "    },\n",
    "    {\n",
    "        'inputs': [],\n",
    "        'name': 'templateURI',\n",
    "        'outputs': [{'internalType': 'string', 'name': '', 'type': 'string'}],\n",
    "        'stateMutability': 'view', 'type': 'function', 'constant': True\n",
    "    },\n",
    "    {\n",
    "        'inputs': [{'internalType': 'uint256', 'name': 'id', 'type': 'uint256'}],\n",
    "        'name': 'maxSupply',\n",
    "        'outputs': [{'internalType': 'uint256', 'name': '', 'type': 'uint256'}],\n",
    "        'stateMutability': 'view', 'type': 'function', 'constant': True\n",
    "    },\n",
    "    {\n",
    "        'inputs': [{'internalType': 'uint256', 'name': 'id', 'type': 'uint256'}],\n",
    "        'name': 'totalSupply',\n",
    "        'outputs': [{'internalType': 'uint256', 'name': '', 'type': 'uint256'}],\n",
    "        'stateMutability': 'view', 'type': 'function', 'constant': True\n",
    "    },\n",
    "    {\n",
    "        'inputs': [{'internalType': 'uint256', 'name': 'id', 'type': 'uint256'}],\n",
    "        'name': 'uri',\n",
    "        'outputs': [{'internalType': 'string', 'name': '', 'type': 'string'}],\n",
    "        'stateMutability': 'view', 'type': 'function', 'constant': True\n",
    "    },\n",
    "]"
   ]
  },
  {
   "cell_type": "markdown",
   "id": "e1db9179-2bba-4ab8-8e57-08c4963b30e9",
   "metadata": {},
   "source": [
    "Now we have a fully specified ABI, we can start again "
   ]
  },
  {
   "cell_type": "code",
   "execution_count": 20,
   "id": "06bd9abd-290b-46fe-817c-f2e1e8445c34",
   "metadata": {},
   "outputs": [
    {
     "name": "stdout",
     "output_type": "stream",
     "text": [
      "------ 2. Working with the smart contract ------\n",
      "contract address: 0x2953399124F0cBB46d2CbACD8A89cF0599974963\n",
      "contract functions: [<Function balanceOf(address,uint256)>, <Function creator(uint256)>, <Function isPermanentURI(uint256)>, <Function name()>, <Function openSeaVersion()>, <Function owner()>, <Function symbol()>, <Function templateURI()>, <Function maxSupply(uint256)>, <Function totalSupply(uint256)>, <Function uri(uint256)>]\n",
      "OpenSea Collections v2.1.0 [OPENSTORE]: owner=0x5b3256965e7C3cF26E11FCAf296DfC8807C01073\n",
      "------ 2. Working with NFT ------\n",
      "templateURI: https://api.opensea.io/api/v2/metadata/matic/0x2953399124F0cBB46d2CbACD8A89cF0599974963/0x{id}\n",
      "NFT URI: https://api.opensea.io/api/v2/metadata/matic/0x2953399124F0cBB46d2CbACD8A89cF0599974963/86520523391455217104303705677473463659385359901978646282133996067748319330305\n",
      "is a permanent URI = False\n",
      "balanceOf owner = 0\n",
      "total supply = 1\n",
      "max supply = 1\n",
      "creator = 0xBF48E17f3E2889Da0DEC0af8B4fA768dBCf236D3\n",
      "balanceOf creator = 0\n"
     ]
    }
   ],
   "source": [
    "my_token_id = 86520523391455217104303705677473463659385359901978646282133996067748319330305\n",
    "\n",
    "print(f\"------ 2. Working with the smart contract ------\")\n",
    "contract = w3.eth.contract(address=w3.toChecksumAddress(my_token_addr), abi=my_abi2)\n",
    "print(f'contract address: {contract.address}')\n",
    "print(f'contract functions: {contract.all_functions()}')\n",
    "name = contract.functions.name().call()\n",
    "symbol = contract.functions.symbol().call()\n",
    "version = contract.functions.openSeaVersion().call()\n",
    "owner_acc = contract.functions.owner().call()\n",
    "print(f\"{name} v{version} [{symbol}]: owner={owner_acc}\")\n",
    "print(f\"------ 2. Working with the NFT ------\")\n",
    "templateURI = contract.functions.templateURI().call()\n",
    "print(f\"templateURI: {templateURI}\")\n",
    "uri = contract.functions.uri(my_token_id).call()\n",
    "assert(uri == templateURI)\n",
    "nftURI = uri.replace('0x{id}', str(my_token_id))\n",
    "print(f\"NFT URI: {nftURI}\")\n",
    "isPermanentURI = contract.functions.isPermanentURI(my_token_id).call()\n",
    "print(f\"is a permanent URI = {isPermanentURI}\")\n",
    "balanceOfOwner = contract.functions.balanceOf(owner=owner_acc,id=my_token_id).call()\n",
    "print(f\"balanceOf owner = {balanceOfOwner}\")\n",
    "totalSupply = contract.functions.totalSupply(my_token_id).call()\n",
    "print(f\"total supply = {totalSupply}\")\n",
    "maxSupply = contract.functions.maxSupply(my_token_id).call()\n",
    "print(f\"max supply = {maxSupply}\")\n",
    "creator_acc = contract.functions.creator(my_token_id).call()\n",
    "print(f\"creator = {creator_acc}\")\n",
    "balanceOfCreator = contract.functions.balanceOf(owner=creator_acc, id=my_token_id).call()\n",
    "print(f\"balanceOf creator = {balanceOfCreator}\")"
   ]
  },
  {
   "cell_type": "markdown",
   "id": "0291de9c-0bfb-40ec-ab17-9b8e052ba68b",
   "metadata": {},
   "source": [
    "A couple of interesting things here are that the OpenSea URI is designated as `False` so OpenSea presumably can change this.  Also that as expected for an NFT, `totalSupply` is 1."
   ]
  },
  {
   "cell_type": "markdown",
   "id": "8f755986-ad81-40e2-9e23-9290f45ee0ce",
   "metadata": {},
   "source": [
    "### 4. Downloading the NFT"
   ]
  },
  {
   "cell_type": "markdown",
   "id": "17569c64-78c4-45e9-a1b7-1150bc4075f7",
   "metadata": {},
   "source": [
    "Now that we have our NFT URI in the `nftURI` variable, we can finally attempt to download it to see what's in the box:"
   ]
  },
  {
   "cell_type": "code",
   "execution_count": 21,
   "id": "8e61302c-ad42-4a6a-9fc1-4e2ae7916d07",
   "metadata": {},
   "outputs": [
    {
     "name": "stdout",
     "output_type": "stream",
     "text": [
      "{'animation_url': None,\n",
      " 'description': 'Ye reflecting on NFTs and the permanence within',\n",
      " 'external_link': None,\n",
      " 'image': 'https://lh3.googleusercontent.com/IOBYa98fiHX2fbW8-9wm_h2ZBKk06uqPen9wr0eBCG8doxACDN37VCxxbeN28vIaWmX52waQ5fNIQNVPIk1Y6lnsehBPxAK3eA7lEQ',\n",
      " 'name': 'Ask Me Later',\n",
      " 'traits': []}\n"
     ]
    }
   ],
   "source": [
    "import requests, pprint\n",
    "\n",
    "r = requests.get(nftURI)\n",
    "pprint.pprint(r.json())"
   ]
  },
  {
   "cell_type": "markdown",
   "id": "68f38cb3-4b83-4ffc-bee2-64394980ec0a",
   "metadata": {},
   "source": [
    "Wow.  The image returned in the NFT URI is nothing other than a link to a thumbnail on Google.  It seems you only get the high fidelity image within the OpenSea environment."
   ]
  },
  {
   "cell_type": "code",
   "execution_count": 28,
   "id": "64ec5e9a-8a04-4f9c-b123-a0ee3007083a",
   "metadata": {},
   "outputs": [
    {
     "data": {
      "text/html": [
       "<img src=\"https://lh3.googleusercontent.com/IOBYa98fiHX2fbW8-9wm_h2ZBKk06uqPen9wr0eBCG8doxACDN37VCxxbeN28vIaWmX52waQ5fNIQNVPIk1Y6lnsehBPxAK3eA7lEQ\" width=\"1200\" height=\"1200\"/>"
      ],
      "text/plain": [
       "<IPython.core.display.Image object>"
      ]
     },
     "execution_count": 28,
     "metadata": {},
     "output_type": "execute_result"
    }
   ],
   "source": [
    "from IPython.display import Image\n",
    "\n",
    "Image(url= \"https://lh3.googleusercontent.com/IOBYa98fiHX2fbW8-9wm_h2ZBKk06uqPen9wr0eBCG8doxACDN37VCxxbeN28vIaWmX52waQ5fNIQNVPIk1Y6lnsehBPxAK3eA7lEQ\", width=1200, height=1200)"
   ]
  },
  {
   "cell_type": "code",
   "execution_count": null,
   "id": "d6b74543-fc7f-4f2d-a8de-92a0f60b3754",
   "metadata": {},
   "outputs": [],
   "source": []
  }
 ],
 "metadata": {
  "kernelspec": {
   "display_name": "Python 3 (ipykernel)",
   "language": "python",
   "name": "python3"
  },
  "language_info": {
   "codemirror_mode": {
    "name": "ipython",
    "version": 3
   },
   "file_extension": ".py",
   "mimetype": "text/x-python",
   "name": "python",
   "nbconvert_exporter": "python",
   "pygments_lexer": "ipython3",
   "version": "3.9.6"
  }
 },
 "nbformat": 4,
 "nbformat_minor": 5
}
